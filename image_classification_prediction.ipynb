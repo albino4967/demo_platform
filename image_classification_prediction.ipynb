{
 "cells": [
  {
   "cell_type": "code",
   "execution_count": 10,
   "id": "163df2d4-d3bf-43db-8cd7-8694cd7e8016",
   "metadata": {},
   "outputs": [
    {
     "name": "stdout",
     "output_type": "stream",
     "text": [
      "##### Base64 변환 결과 #####\n",
      "iVBORw0KGgoAAAANSUhEUgAAABwAAAAcCAAAAABXZoBIAAAAkElEQVR4nGNgGIZAXkmp6fzDN0cqODCk+Gd+//v37z8g/muOIZkCEsYlaYOQdMSQ1Pn0+9ixY8crI+7/XYrpHm0TCN361x+3o1/9zcEpJ/T1bxJOyRRsriVKsvj/P9ySl/7uEsQlJ/34bwROjc5/fwfgkXyOUw6/5Ap8khv/fq3CKen94W8pbq3u73EHLSoAABldUFURmzWAAAAAAElFTkSuQmCC\n",
      "\n",
      "##### Input Data #####\n",
      "{'instances': [{'data': 'iVBORw0KGgoAAAANSUhEUgAAABwAAAAcCAAAAABXZoBIAAAAkElEQVR4nGNgGIZAXkmp6fzDN0cqODCk+Gd+//v37z8g/muOIZkCEsYlaYOQdMSQ1Pn0+9ixY8crI+7/XYrpHm0TCN361x+3o1/9zcEpJ/T1bxJOyRRsriVKsvj/P9ySl/7uEsQlJ/34bwROjc5/fwfgkXyOUw6/5Ap8khv/fq3CKen94W8pbq3u73EHLSoAABldUFURmzWAAAAAAElFTkSuQmCC'}]}\n",
      "\n",
      "##### 예측 및 분류 결과 #####\n",
      "---------- 예측 숫자 : 7\n"
     ]
    }
   ],
   "source": [
    "import requests\n",
    "import os\n",
    "import json\n",
    "import base64\n",
    "\n",
    "\"\"\"\n",
    "Image Classification Tutorial : MNIST 손글씨\n",
    "출처 : TorchServe Github : https://github.com/pytorch/serve/tree/master/examples/image_classifier/mnist\n",
    "Pytorch 기반의 TorchServe는 하나의 내부 IP Address에 Endpoint가 모델 단위로 분류됩니다.\n",
    "모델의 목록을 조회하고 싶다면, [GET] http://${IP_ADDRESS}:80/v1/models 를 통해 확인할 수 있습니다.\n",
    "\"\"\"\n",
    "# 모델 서버 예측 REST API\n",
    "# Model Name : mnist\n",
    "# URL = {REST_API_URL}\n",
    "URL = \"http://10.109.87.199:80/v1/models/mnist:predict\"\n",
    "\n",
    "# 이미지 전처리 메소드 : Base64 변환\n",
    "def preprocess(image_path):\n",
    "    with open(image_path, \"rb\") as image:\n",
    "        # Base64 Encoding\n",
    "        encode_base64 = base64.b64encode(image.read())\n",
    "        # UTF-8로 Decode\n",
    "        decode_image = encode_base64.decode(\"utf-8\")\n",
    "        \n",
    "        print(\"##### Base64 변환 결과 #####\")\n",
    "        print(decode_image)\n",
    "        \n",
    "        return decode_image\n",
    "\n",
    "# 테스트 이미지 경로\n",
    "image_path = os.getcwd() + \"/test_image/image_classification.png\"\n",
    "\n",
    "# 전처리 메소드 호출\n",
    "image = preprocess(image_path)\n",
    "\n",
    "# KServe Input 포맷에 맞추는 작업\n",
    "input_data = {\"instances\" : [{\n",
    "        \"data\": image\n",
    "    }]\n",
    "}\n",
    "print(\"\\n##### Input Data #####\")\n",
    "print(input_data)\n",
    "\n",
    "# JSON으로 Input 포맷 변환\n",
    "data = json.dumps(input_data)\n",
    "\n",
    "# 모델 예측 API 호출 및 응답 저장\n",
    "prediction = requests.post(URL, data)\n",
    "\n",
    "# 에측 및 분류 결과 출력\n",
    "print(\"\\n##### 예측 및 분류 결과 #####\")\n",
    "print(\"---------- 예측 숫자 : \" + str(prediction.json()[\"predictions\"][0]))"
   ]
  },
  {
   "cell_type": "code",
   "execution_count": null,
   "id": "7aea1362-2e04-4c9e-8b04-954a9ca92486",
   "metadata": {},
   "outputs": [],
   "source": []
  }
 ],
 "metadata": {
  "kernelspec": {
   "display_name": "Python 3",
   "language": "python",
   "name": "python3"
  },
  "language_info": {
   "codemirror_mode": {
    "name": "ipython",
    "version": 3
   },
   "file_extension": ".py",
   "mimetype": "text/x-python",
   "name": "python",
   "nbconvert_exporter": "python",
   "pygments_lexer": "ipython3",
   "version": "3.8.10"
  }
 },
 "nbformat": 4,
 "nbformat_minor": 5
}
