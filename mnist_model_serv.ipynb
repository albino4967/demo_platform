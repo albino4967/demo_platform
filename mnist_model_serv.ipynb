{
 "cells": [
  {
   "cell_type": "code",
   "execution_count": 12,
   "id": "163df2d4-d3bf-43db-8cd7-8694cd7e8016",
   "metadata": {},
   "outputs": [
    {
     "name": "stdout",
     "output_type": "stream",
     "text": [
      "\n",
      "##### Input Data #####\n"
     ]
    },
    {
     "data": {
      "image/png": "[encoded data removed]",
      "text/plain": [
       "<Figure size 432x288 with 1 Axes>"
      ]
     },
     "metadata": {
      "needs_background": "light"
     },
     "output_type": "display_data"
    },
    {
     "name": "stdout",
     "output_type": "stream",
     "text": [
      "\n",
      "##### 예측 및 분류 결과 #####\n",
      "---------- 예측 숫자 : 2\n"
     ]
    }
   ],
   "source": [
    "import requests\n",
    "import os\n",
    "import json\n",
    "import base64\n",
    "from PIL import Image\n",
    "import numpy as np\n",
    "import matplotlib.pyplot as plt\n",
    "\"\"\"\n",
    "Image Classification Tutorial : MNIST 손글씨\n",
    "출처 : TorchServe Github : https://github.com/pytorch/serve/tree/master/examples/image_classifier/mnist\n",
    "Pytorch 기반의 TorchServe는 하나의 내부 IP Address에 Endpoint가 모델 단위로 분류됩니다.\n",
    "모델의 목록을 조회하고 싶다면, [GET] http://${IP_ADDRESS}:80/v1/models 를 통해 확인할 수 있습니다.\n",
    "\"\"\"\n",
    "# 모델 서버 예측 REST API\n",
    "# Model Name : mnist\n",
    "# URL = {REST_API_URL}\n",
    "URL = \"http://mnist-model-server.demo.svc.cluster.local/v1/models/mnist-model-server:predict\"\n",
    "\n",
    "\n",
    "# 테스트 이미지 경로\n",
    "image_path = os.getcwd() + \"/test_data/2.png\"\n",
    "\n",
    "img = Image.open(image_path).convert(\"L\")\n",
    "img = np.array(img)\n",
    "img = img.reshape([-1, 784])\n",
    "\n",
    "# KServe Input 포맷에 맞추는 작업\n",
    "input_data = {\"instances\" :img.tolist()}\n",
    "print(\"\\n##### Input Data #####\")\n",
    "visual_img = Image.open(image_path).convert(\"RGB\")\n",
    "plt.imshow(visual_img)\n",
    "plt.show()\n",
    "\n",
    "\n",
    "# JSON으로 Input 포맷 변환\n",
    "data = json.dumps(input_data)\n",
    "\n",
    "# 모델 예측 API 호출 및 응답 저장\n",
    "prediction = requests.post(URL, data)\n",
    "result_list = str(prediction.json()[\"predictions\"][0])[1:-1].split(',')\n",
    "\n",
    "# 에측 및 분류 결과 출력\n",
    "print(\"\\n##### 예측 및 분류 결과 #####\")\n",
    "print(f\"---------- 예측 숫자 : {result_list.index(' 1.0')}\")"
   ]
  },
  {
   "cell_type": "code",
   "execution_count": null,
   "id": "7aea1362-2e04-4c9e-8b04-954a9ca92486",
   "metadata": {},
   "outputs": [],
   "source": []
  }
 ],
 "metadata": {
  "kernelspec": {
   "display_name": "Python 3",
   "language": "python",
   "name": "python3"
  },
  "language_info": {
   "codemirror_mode": {
    "name": "ipython",
    "version": 3
   },
   "file_extension": ".py",
   "mimetype": "text/x-python",
   "name": "python",
   "nbconvert_exporter": "python",
   "pygments_lexer": "ipython3",
   "version": "3.8.10"
  }
 },
 "nbformat": 4,
 "nbformat_minor": 5
}
